{
 "cells": [
  {
   "cell_type": "code",
   "execution_count": 1,
   "metadata": {
    "collapsed": true
   },
   "outputs": [],
   "source": [
    "#Author:  SYH & SXK\n",
    "#DATE:    2018.9.4\n",
    "#TASK:    NN with SA\n",
    "\n",
    "#Restructured from CS231n assignment1\n"
   ]
  },
  {
   "cell_type": "code",
   "execution_count": 2,
   "metadata": {
    "collapsed": true
   },
   "outputs": [],
   "source": [
    "#Setup\n",
    "\n",
    "import numpy as np\n",
    "import matplotlib.pyplot as plt\n",
    "\n",
    "from __future__ import print_function\n",
    "\n",
    "%matplotlib inline\n",
    "\n",
    "random_seed = 0\n"
   ]
  },
  {
   "cell_type": "code",
   "execution_count": 3,
   "metadata": {},
   "outputs": [
    {
     "name": "stdout",
     "output_type": "stream",
     "text": [
      "Train data shape:  (49000, 3072)\n",
      "Train labels shape:  (49000,)\n",
      "Validation data shape:  (1000, 3072)\n",
      "Validation labels shape:  (1000,)\n",
      "Test data shape:  (1000, 3072)\n",
      "Test labels shape:  (1000,)\n"
     ]
    }
   ],
   "source": [
    "from head.data_utils import load_CIFAR10\n",
    "\n",
    "\n",
    "#Load Data\n",
    "\n",
    "def get_CIFAR10_data(num_training=49000, num_validation=1000, num_test=1000):\n",
    "    \n",
    "    cifar10_dir = 'datasets/cifar-10-batches-py'\n",
    "    X_train, y_train, X_test, y_test = load_CIFAR10(cifar10_dir)\n",
    "        \n",
    "    # Subsample the data\n",
    "    mask = list(range(num_training, num_training + num_validation))\n",
    "    X_val = X_train[mask]\n",
    "    y_val = y_train[mask]\n",
    "    mask = list(range(num_training))\n",
    "    X_train = X_train[mask]\n",
    "    y_train = y_train[mask]\n",
    "    mask = list(range(num_test))\n",
    "    X_test = X_test[mask]\n",
    "    y_test = y_test[mask]\n",
    "\n",
    "    # Normalize the data: subtract the mean image\n",
    "    mean_image = np.mean(X_train, axis=0)\n",
    "    X_train -= mean_image\n",
    "    X_val -= mean_image\n",
    "    X_test -= mean_image\n",
    "\n",
    "    # Reshape data to rows\n",
    "    X_train = X_train.reshape(num_training, -1)\n",
    "    X_val = X_val.reshape(num_validation, -1)\n",
    "    X_test = X_test.reshape(num_test, -1)\n",
    "\n",
    "    return X_train, y_train, X_val, y_val, X_test, y_test\n",
    "\n",
    "\n",
    "# Invoke the above function to get our data.\n",
    "X_train, y_train, X_val, y_val, X_test, y_test = get_CIFAR10_data()\n",
    "print('Train data shape: ', X_train.shape)\n",
    "print('Train labels shape: ', y_train.shape)\n",
    "print('Validation data shape: ', X_val.shape)\n",
    "print('Validation labels shape: ', y_val.shape)\n",
    "print('Test data shape: ', X_test.shape)\n",
    "print('Test labels shape: ', y_test.shape)"
   ]
  },
  {
   "cell_type": "code",
   "execution_count": 4,
   "metadata": {
    "collapsed": true
   },
   "outputs": [],
   "source": [
    "#Network Settings\n",
    "\n",
    "input_size = 32 * 32 * 3\n",
    "hidden_size = 50\n",
    "num_classes = 10\n"
   ]
  },
  {
   "cell_type": "code",
   "execution_count": 5,
   "metadata": {},
   "outputs": [
    {
     "name": "stdout",
     "output_type": "stream",
     "text": [
      "iteration 0 / 3000: loss 2.302747\n",
      "iteration 100 / 3000: loss 2.151115\n",
      "iteration 200 / 3000: loss 1.956375\n",
      "iteration 300 / 3000: loss 1.795100\n",
      "iteration 400 / 3000: loss 1.650096\n",
      "iteration 500 / 3000: loss 1.788248\n",
      "iteration 600 / 3000: loss 1.632312\n",
      "iteration 700 / 3000: loss 1.725397\n",
      "iteration 800 / 3000: loss 1.546313\n",
      "iteration 900 / 3000: loss 1.617557\n",
      "iteration 1000 / 3000: loss 1.605412\n",
      "iteration 1100 / 3000: loss 1.411051\n",
      "iteration 1200 / 3000: loss 1.647157\n",
      "iteration 1300 / 3000: loss 1.290863\n",
      "iteration 1400 / 3000: loss 1.594383\n",
      "iteration 1500 / 3000: loss 1.539742\n",
      "iteration 1600 / 3000: loss 1.498160\n",
      "iteration 1700 / 3000: loss 1.507776\n",
      "iteration 1800 / 3000: loss 1.503318\n",
      "iteration 1900 / 3000: loss 1.481487\n",
      "iteration 2000 / 3000: loss 1.473032\n",
      "iteration 2100 / 3000: loss 1.413800\n",
      "iteration 2200 / 3000: loss 1.432247\n",
      "iteration 2300 / 3000: loss 1.545330\n",
      "iteration 2400 / 3000: loss 1.393733\n",
      "iteration 2500 / 3000: loss 1.465507\n",
      "iteration 2600 / 3000: loss 1.343429\n",
      "iteration 2700 / 3000: loss 1.408117\n",
      "iteration 2800 / 3000: loss 1.412546\n",
      "iteration 2900 / 3000: loss 1.402916\n",
      "Test accuracy:  0.503\n"
     ]
    }
   ],
   "source": [
    "#Training use SGD \n",
    "#Test set accuracy around 50%\n",
    "\n",
    "from head.neural_net import TwoLayerNet\n",
    "\n",
    "np.random.seed(random_seed)\n",
    "\n",
    "#Training hyperparams\n",
    "batch_size = 236\n",
    "learning_rate = 5e-4\n",
    "reg = 0.1\n",
    "\n",
    "net_bp = TwoLayerNet(input_size, hidden_size, num_classes)\n",
    "stats_bp = net_bp.train_bp(X_train, y_train, X_val, y_val,\n",
    "                num_iters=3000, batch_size=batch_size,\n",
    "                learning_rate=learning_rate, learning_rate_decay=0.95,\n",
    "                reg=reg, verbose=True)\n",
    "\n",
    "test_acc = (net_bp.predict(X_test) == y_test).mean()\n",
    "print('Test accuracy: ', test_acc)"
   ]
  },
  {
   "cell_type": "code",
   "execution_count": 6,
   "metadata": {},
   "outputs": [
    {
     "data": {
      "text/plain": [
       "\"\\n#Training use SA\\n\\nfrom head.neural_net import TwoLayerNet\\n\\nnp.random.seed(random_seed)\\n\\n#Training hyperparameters\\nbatch_size = 200\\nstep_len = 5e-4\\nreg = 0.1\\n\\nnet_sa = TwoLayerNet(input_size, hidden_size, num_classes)\\nstats_sa = net_sa.train_sa(X_train, y_train, X_val, y_val,\\n        num_iters=3000, batch_size=batch_size, step_len = step_len,\\n        reg=reg, verbose=True)\\n\\ntest_acc = (net_sa.predict(X_test) == y_test).mean()\\nprint('Test accuracy: ', test_acc)\\n\""
      ]
     },
     "execution_count": 6,
     "metadata": {},
     "output_type": "execute_result"
    }
   ],
   "source": [
    "'''\n",
    "#Training use SA\n",
    "\n",
    "from head.neural_net import TwoLayerNet\n",
    "\n",
    "np.random.seed(random_seed)\n",
    "\n",
    "#Training hyperparameters\n",
    "batch_size = 200\n",
    "step_len = 5e-4\n",
    "reg = 0.1\n",
    "\n",
    "net_sa = TwoLayerNet(input_size, hidden_size, num_classes)\n",
    "stats_sa = net_sa.train_sa(X_train, y_train, X_val, y_val,\n",
    "        num_iters=3000, batch_size=batch_size, step_len = step_len,\n",
    "        reg=reg, verbose=True)\n",
    "\n",
    "test_acc = (net_sa.predict(X_test) == y_test).mean()\n",
    "print('Test accuracy: ', test_acc)\n",
    "'''"
   ]
  },
  {
   "cell_type": "code",
   "execution_count": 7,
   "metadata": {},
   "outputs": [
    {
     "name": "stdout",
     "output_type": "stream",
     "text": [
      "iteration 0 / 3000: loss 2.302746\n",
      "iteration 100 / 3000: loss 2.044375\n",
      "iteration 200 / 3000: loss 1.917530\n",
      "iteration 300 / 3000: loss 1.790149\n",
      "iteration 400 / 3000: loss 1.788173\n",
      "iteration 500 / 3000: loss 1.698970\n",
      "iteration 600 / 3000: loss 1.545479\n",
      "iteration 700 / 3000: loss 1.523542\n",
      "iteration 800 / 3000: loss 1.504304\n",
      "iteration 900 / 3000: loss 1.435722\n",
      "iteration 1000 / 3000: loss 1.516392\n",
      "iteration 1100 / 3000: loss 1.465207\n",
      "iteration 1200 / 3000: loss 1.486957\n",
      "iteration 1300 / 3000: loss 1.408480\n",
      "iteration 1400 / 3000: loss 1.372257\n",
      "iteration 1500 / 3000: loss 1.445392\n",
      "iteration 1600 / 3000: loss 1.394879\n",
      "iteration 1700 / 3000: loss 1.415269\n",
      "iteration 1800 / 3000: loss 1.339410\n",
      "iteration 1900 / 3000: loss 1.347185\n",
      "iteration 2000 / 3000: loss 1.476985\n",
      "iteration 2100 / 3000: loss 1.360302\n",
      "iteration 2200 / 3000: loss 1.311173\n",
      "iteration 2300 / 3000: loss 1.362316\n",
      "iteration 2400 / 3000: loss 1.454603\n",
      "iteration 2500 / 3000: loss 1.431832\n",
      "iteration 2600 / 3000: loss 1.245165\n",
      "iteration 2700 / 3000: loss 1.382121\n",
      "iteration 2800 / 3000: loss 1.440187\n",
      "iteration 2900 / 3000: loss 1.359481\n",
      "Accept: 2997   Reject: 3\n",
      "Test accuracy:  0.51\n"
     ]
    }
   ],
   "source": [
    "#Experiment by SYH\n",
    "\n",
    "from head.neural_net import TwoLayerNet\n",
    "\n",
    "np.random.seed(random_seed)\n",
    "\n",
    "#Training hyperparams\n",
    "batch_size = 236\n",
    "step_len = 5e-4\n",
    "reg = 0.1\n",
    "\n",
    "net_test = TwoLayerNet(input_size, hidden_size, num_classes)\n",
    "stats_test = net_test.train_test(X_train, y_train, X_val, y_val,\n",
    "                num_iters=3000, batch_size=batch_size,\n",
    "                step_len = step_len, sigma = 0.1,\n",
    "                reg=reg, verbose=True)\n",
    "\n",
    "test_acc = (net_test.predict(X_test) == y_test).mean()\n",
    "print('Test accuracy: ', test_acc)"
   ]
  },
  {
   "cell_type": "code",
   "execution_count": null,
   "metadata": {
    "collapsed": true
   },
   "outputs": [],
   "source": []
  }
 ],
 "metadata": {
  "kernelspec": {
   "display_name": "Python 3",
   "language": "python",
   "name": "python3"
  },
  "language_info": {
   "codemirror_mode": {
    "name": "ipython",
    "version": 3
   },
   "file_extension": ".py",
   "mimetype": "text/x-python",
   "name": "python",
   "nbconvert_exporter": "python",
   "pygments_lexer": "ipython3",
   "version": "3.6.2"
  }
 },
 "nbformat": 4,
 "nbformat_minor": 2
}
